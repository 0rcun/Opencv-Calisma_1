{
 "cells": [
  {
   "cell_type": "markdown",
   "metadata": {},
   "source": [
    "# FourPlusOne Ekibi 1.Calisma\n",
    "\n"
   ]
  },
  {
   "cell_type": "code",
   "execution_count": 1,
   "metadata": {},
   "outputs": [
    {
     "name": "stdout",
     "output_type": "stream",
     "text": [
      "3.2.0\n"
     ]
    }
   ],
   "source": [
    "import cv2\n",
    "print (cv2.__version__)"
   ]
  },
  {
   "cell_type": "code",
   "execution_count": 2,
   "metadata": {},
   "outputs": [
    {
     "name": "stdout",
     "output_type": "stream",
     "text": [
      "1.11.3\n"
     ]
    }
   ],
   "source": [
    "import matplotlib.pylab as plt\n",
    "print (plt.__version__)"
   ]
  },
  {
   "cell_type": "markdown",
   "metadata": {},
   "source": []
  },
  {
   "cell_type": "code",
   "execution_count": 3,
   "metadata": {},
   "outputs": [],
   "source": [
    "dosyaYolu='/home/orcun/Masaüstü/calisma_1/00001.jpg' ##Dosyayi okumak icin yol"
   ]
  },
  {
   "cell_type": "code",
   "execution_count": 4,
   "metadata": {},
   "outputs": [],
   "source": [
    "img = cv2.imread(dosyaYolu,1)  #Dosyayi okuma fonksiyonu "
   ]
  },
  {
   "cell_type": "code",
   "execution_count": 5,
   "metadata": {},
   "outputs": [],
   "source": [
    "crop_img = img[0:376, 0:672]    #Dosyanin kirpildigi yer\n",
    "cv2.imwrite('00001_grey.jpg',crop_img)    #Kirpilan dosyanin kaydedildigi yer\n",
    "dosyaYoluCrop='/home/orcun/Masaüstü/calisma_1/00001_grey.jpg'   \n",
    "#Kirpilan dosyabin yolu bir ust satir\n",
    "img = cv2.imread(dosyaYoluCrop,0)    #Kirpilan dosyanin okuldugu yer"
   ]
  },
  {
   "cell_type": "code",
   "execution_count": 6,
   "metadata": {},
   "outputs": [
    {
     "data": {
      "text/plain": [
       "True"
      ]
     },
     "execution_count": 6,
     "metadata": {},
     "output_type": "execute_result"
    }
   ],
   "source": [
    "font = cv2.FONT_HERSHEY_SIMPLEX    #Isim yazarken fontun tipi\n",
    "cv2.putText(img,'Orcun Kamiloglu',(5,50), font, 1,(255,255,255),2,cv2.LINE_AA)    #Ismin yazildigi  \n",
    "cv2.imwrite('00001_grey.jpg',img)    #En son dosyanin kaydedilmesi\n",
    "# Dosya Calisma1_1 'in kaydedildigi yere kaydediliyor"
   ]
  }
 ],
 "metadata": {
  "kernelspec": {
   "display_name": "Python 2",
   "language": "python",
   "name": "python2"
  },
  "language_info": {
   "codemirror_mode": {
    "name": "ipython",
    "version": 2
   },
   "file_extension": ".py",
   "mimetype": "text/x-python",
   "name": "python",
   "nbconvert_exporter": "python",
   "pygments_lexer": "ipython2",
   "version": "2.7.14"
  }
 },
 "nbformat": 4,
 "nbformat_minor": 2
}
